{
    "cells": [
        {
            "cell_type": "markdown",
            "metadata": {
                "collapsed": true
            },
            "source": "# Capstone: Find the best neighborhood in Toronto to open a Restaurant Supply Store"
        },
        {
            "cell_type": "markdown",
            "metadata": {},
            "source": "## Introduction:"
        },
        {
            "cell_type": "markdown",
            "metadata": {},
            "source": "A friend of mine who runs a leading Restaurant Supply Store has found out that I am studying data science and has asked for help in trying to determine which neighborhood in Toronto he should open his new store in. \\\nExample Company: \\\nhttp://www.bramainc.com/about-brama \\\nI begin with an interview with my friend to determine the requirements."
        },
        {
            "cell_type": "markdown",
            "metadata": {},
            "source": "## Problem Description:"
        },
        {
            "cell_type": "markdown",
            "metadata": {},
            "source": "Which neighborhood should my friend open his new Restaurant Supply store in Toronto? \\\nHe wants to ensure steady and sustainable business."
        },
        {
            "cell_type": "markdown",
            "metadata": {},
            "source": "## Requirements:"
        },
        {
            "cell_type": "markdown",
            "metadata": {},
            "source": "### 1. Store needs to be strategically located inside the biggest concentration of restaurants in Toronto area."
        },
        {
            "cell_type": "markdown",
            "metadata": {},
            "source": "### 2. Confirm any assumption by means of modeling and testing the data. Specifically, visually cluster common restaurants in Toronto by neighborhood."
        },
        {
            "cell_type": "markdown",
            "metadata": {},
            "source": "### 3. Additionally determine that a good number people can frequent these restaurants with sustainable frequency inside these neighborhoods."
        },
        {
            "cell_type": "markdown",
            "metadata": {},
            "source": "a.) Is the neighborhood populous? \\\nb.) Is the neighborhood average salary close to the Canadian National Average?"
        },
        {
            "cell_type": "markdown",
            "metadata": {},
            "source": "My friend wants to be able to judge which neighborhoods also may be poised to grow in restaurant numbers in coming years."
        },
        {
            "cell_type": "markdown",
            "metadata": {},
            "source": "Locating his new store according to these requirements will ensure the following:"
        },
        {
            "cell_type": "markdown",
            "metadata": {},
            "source": "- lowest cost for delivery\n- shortest travel time to his store for his clients\n- overall lower run costs\n- increase in overall business\n- overall greater customer satisfaction"
        }
    ],
    "metadata": {
        "kernelspec": {
            "display_name": "Python 3.7",
            "language": "python",
            "name": "python3"
        },
        "language_info": {
            "codemirror_mode": {
                "name": "ipython",
                "version": 3
            },
            "file_extension": ".py",
            "mimetype": "text/x-python",
            "name": "python",
            "nbconvert_exporter": "python",
            "pygments_lexer": "ipython3",
            "version": "3.7.9"
        }
    },
    "nbformat": 4,
    "nbformat_minor": 1
}